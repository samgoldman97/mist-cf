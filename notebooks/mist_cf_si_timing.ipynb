{
 "cells": [
  {
   "cell_type": "code",
   "execution_count": 1,
   "metadata": {},
   "outputs": [],
   "source": [
    "import numpy as np\n",
    "import pandas as pd\n",
    "from pathlib import Path"
   ]
  },
  {
   "cell_type": "code",
   "execution_count": 6,
   "metadata": {},
   "outputs": [
    {
     "data": {
      "text/html": [
       "<div>\n",
       "<style scoped>\n",
       "    .dataframe tbody tr th:only-of-type {\n",
       "        vertical-align: middle;\n",
       "    }\n",
       "\n",
       "    .dataframe tbody tr th {\n",
       "        vertical-align: top;\n",
       "    }\n",
       "\n",
       "    .dataframe thead th {\n",
       "        text-align: right;\n",
       "    }\n",
       "</style>\n",
       "<table border=\"1\" class=\"dataframe\">\n",
       "  <thead>\n",
       "    <tr style=\"text-align: right;\">\n",
       "      <th></th>\n",
       "      <th>Method</th>\n",
       "      <th>Time</th>\n",
       "      <th>Specs</th>\n",
       "      <th>Replicate</th>\n",
       "    </tr>\n",
       "  </thead>\n",
       "  <tbody>\n",
       "    <tr>\n",
       "      <th>0</th>\n",
       "      <td>MIST</td>\n",
       "      <td>40.258024</td>\n",
       "      <td>10</td>\n",
       "      <td>1</td>\n",
       "    </tr>\n",
       "    <tr>\n",
       "      <th>1</th>\n",
       "      <td>MIST</td>\n",
       "      <td>39.050628</td>\n",
       "      <td>10</td>\n",
       "      <td>2</td>\n",
       "    </tr>\n",
       "    <tr>\n",
       "      <th>2</th>\n",
       "      <td>MIST</td>\n",
       "      <td>38.618334</td>\n",
       "      <td>10</td>\n",
       "      <td>3</td>\n",
       "    </tr>\n",
       "  </tbody>\n",
       "</table>\n",
       "</div>"
      ],
      "text/plain": [
       "  Method       Time  Specs  Replicate\n",
       "0   MIST  40.258024     10          1\n",
       "1   MIST  39.050628     10          2\n",
       "2   MIST  38.618334     10          3"
      ]
     },
     "metadata": {},
     "output_type": "display_data"
    },
    {
     "name": "stdout",
     "output_type": "stream",
     "text": [
      "MIST CF: 39.31 ± 0.49 (95% CI: 0.96)\n"
     ]
    },
    {
     "name": "stderr",
     "output_type": "stream",
     "text": [
      "/tmp/ipykernel_1597873/2142435450.py:10: FutureWarning: Dropping of nuisance columns in DataFrame reductions (with 'numeric_only=None') is deprecated; in a future version this will raise TypeError.  Select only valid columns before calling the reduction.\n",
      "  mist_cf_df_ci = mist_cf_df_grouped.apply(lambda x: x.sem() * 1.96)\n"
     ]
    }
   ],
   "source": [
    "mist_cf_res = \"../results/timing_experiments/timing_res_mist.tsv\"\n",
    "mist_cf_df = pd.read_csv(mist_cf_res, sep=\"\\t\")\n",
    "display(mist_cf_df)\n",
    "# Compute mean, SEM and 95% CI and print for both MIST CF and SIRIUS\n",
    "# Columns are \"Method\", \"Time\", \"Replicate\"\n",
    "# Group by method and compute mean, SEM and 95% CI\n",
    "mist_cf_df_grouped = mist_cf_df.groupby(\"Method\")\n",
    "mist_cf_df_mean = mist_cf_df_grouped.mean()\n",
    "mist_cf_df_sem = mist_cf_df_grouped.sem()\n",
    "mist_cf_df_ci = mist_cf_df_grouped.apply(lambda x: x.sem() * 1.96)\n",
    "# Extract single values\n",
    "mist_cf_mean = mist_cf_df_mean[\"Time\"][0]\n",
    "mist_cf_sem = mist_cf_df_sem[\"Time\"][0]\n",
    "mist_cf_ci = mist_cf_df_ci[\"Time\"][0]\n",
    "\n",
    "# Print in a single statement\n",
    "print(f\"MIST CF: {mist_cf_mean:.2f} ± {mist_cf_sem:.2f} (95% CI: {mist_cf_ci:.2f})\")"
   ]
  },
  {
   "cell_type": "code",
   "execution_count": 8,
   "metadata": {},
   "outputs": [
    {
     "data": {
      "text/html": [
       "<div>\n",
       "<style scoped>\n",
       "    .dataframe tbody tr th:only-of-type {\n",
       "        vertical-align: middle;\n",
       "    }\n",
       "\n",
       "    .dataframe tbody tr th {\n",
       "        vertical-align: top;\n",
       "    }\n",
       "\n",
       "    .dataframe thead th {\n",
       "        text-align: right;\n",
       "    }\n",
       "</style>\n",
       "<table border=\"1\" class=\"dataframe\">\n",
       "  <thead>\n",
       "    <tr style=\"text-align: right;\">\n",
       "      <th></th>\n",
       "      <th>Method</th>\n",
       "      <th>Time</th>\n",
       "      <th>Specs</th>\n",
       "      <th>Replicate</th>\n",
       "    </tr>\n",
       "  </thead>\n",
       "  <tbody>\n",
       "    <tr>\n",
       "      <th>0</th>\n",
       "      <td>SIRIUS</td>\n",
       "      <td>113.016522</td>\n",
       "      <td>100</td>\n",
       "      <td>1</td>\n",
       "    </tr>\n",
       "    <tr>\n",
       "      <th>1</th>\n",
       "      <td>SIRIUS</td>\n",
       "      <td>112.339631</td>\n",
       "      <td>100</td>\n",
       "      <td>2</td>\n",
       "    </tr>\n",
       "    <tr>\n",
       "      <th>2</th>\n",
       "      <td>SIRIUS</td>\n",
       "      <td>112.463339</td>\n",
       "      <td>100</td>\n",
       "      <td>3</td>\n",
       "    </tr>\n",
       "  </tbody>\n",
       "</table>\n",
       "</div>"
      ],
      "text/plain": [
       "   Method        Time  Specs  Replicate\n",
       "0  SIRIUS  113.016522    100          1\n",
       "1  SIRIUS  112.339631    100          2\n",
       "2  SIRIUS  112.463339    100          3"
      ]
     },
     "metadata": {},
     "output_type": "display_data"
    },
    {
     "name": "stdout",
     "output_type": "stream",
     "text": [
      "SIRIUS: 112.61 ± 0.21 (95% CI: 0.41)\n"
     ]
    },
    {
     "name": "stderr",
     "output_type": "stream",
     "text": [
      "/tmp/ipykernel_1597873/2644533903.py:11: FutureWarning: Dropping of nuisance columns in DataFrame reductions (with 'numeric_only=None') is deprecated; in a future version this will raise TypeError.  Select only valid columns before calling the reduction.\n",
      "  sirius_df_ci = sirius_df_grouped.apply(lambda x: x.sem() * 1.96)\n"
     ]
    }
   ],
   "source": [
    "# Repeat all analyses but with sirius\n",
    "sirius_res = \"../results/timing_experiments/timing_res_sirius.tsv\"\n",
    "sirius_df = pd.read_csv(sirius_res, sep=\"\\t\")\n",
    "display(sirius_df)\n",
    "# Compute mean, SEM and 95% CI and print for both MIST CF and SIRIUS\n",
    "# Columns are \"Method\", \"Time\", \"Replicate\"\n",
    "# Group by method and compute mean, SEM and 95% CI\n",
    "sirius_df_grouped = sirius_df.groupby(\"Method\")\n",
    "sirius_df_mean = sirius_df_grouped.mean()\n",
    "sirius_df_sem = sirius_df_grouped.sem()\n",
    "sirius_df_ci = sirius_df_grouped.apply(lambda x: x.sem() * 1.96)\n",
    "# Extract single values\n",
    "sirius_mean = sirius_df_mean[\"Time\"][0]\n",
    "sirius_sem = sirius_df_sem[\"Time\"][0]\n",
    "sirius_ci = sirius_df_ci[\"Time\"][0]\n",
    "\n",
    "# Print in a single statement\n",
    "print(f\"SIRIUS: {sirius_mean:.2f} ± {sirius_sem:.2f} (95% CI: {sirius_ci:.2f})\")\n",
    "## Note: the specs=100 is a typo from a hardcoded error; they were tested on the same MGF file"
   ]
  }
 ],
 "metadata": {
  "kernelspec": {
   "display_name": "ms-gen",
   "language": "python",
   "name": "python3"
  },
  "language_info": {
   "codemirror_mode": {
    "name": "ipython",
    "version": 3
   },
   "file_extension": ".py",
   "mimetype": "text/x-python",
   "name": "python",
   "nbconvert_exporter": "python",
   "pygments_lexer": "ipython3",
   "version": "3.8.13"
  },
  "orig_nbformat": 4
 },
 "nbformat": 4,
 "nbformat_minor": 2
}

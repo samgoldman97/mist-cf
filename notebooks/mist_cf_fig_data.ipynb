{
 "cells": [
  {
   "cell_type": "code",
   "execution_count": 1,
   "metadata": {},
   "outputs": [
    {
     "name": "stderr",
     "output_type": "stream",
     "text": [
      "/home/samlg/.conda/envs/ms-gen/lib/python3.8/site-packages/tqdm/auto.py:22: TqdmWarning: IProgress not found. Please update jupyter and ipywidgets. See https://ipywidgets.readthedocs.io/en/stable/user_install.html\n",
      "  from .autonotebook import tqdm as notebook_tqdm\n"
     ]
    }
   ],
   "source": [
    "from pathlib import Path\n",
    "import pandas as pd\n",
    "import numpy as np\n",
    "from mist_cf.common.plot_utils import *\n",
    "from mist_cf import common, decomp\n",
    "from collections import Counter\n",
    "import json\n",
    "set_style()"
   ]
  },
  {
   "cell_type": "code",
   "execution_count": 2,
   "metadata": {},
   "outputs": [],
   "source": [
    "dataset_name = \"nist_canopus\"\n",
    "data_folder = Path(f\"../data/{dataset_name}/\")\n",
    "labels = data_folder / \"labels.tsv\""
   ]
  },
  {
   "cell_type": "code",
   "execution_count": 3,
   "metadata": {},
   "outputs": [],
   "source": [
    "df = pd.read_csv(labels, sep=\"\\t\")\n",
    "df_no_nist = df[df['spec'].str.contains('nist') == False]"
   ]
  },
  {
   "cell_type": "code",
   "execution_count": 4,
   "metadata": {},
   "outputs": [
    {
     "data": {
      "text/plain": [
       "(45838, 10709)"
      ]
     },
     "execution_count": 4,
     "metadata": {},
     "output_type": "execute_result"
    }
   ],
   "source": [
    "len(df), len(df_no_nist)"
   ]
  },
  {
   "cell_type": "code",
   "execution_count": 5,
   "metadata": {},
   "outputs": [
    {
     "data": {
      "text/plain": [
       "((30950, 7), (8553, 7))"
      ]
     },
     "execution_count": 5,
     "metadata": {},
     "output_type": "execute_result"
    }
   ],
   "source": [
    "df.groupby(\"inchikey\").count().shape, df_no_nist.groupby(\"inchikey\").count().shape"
   ]
  },
  {
   "cell_type": "code",
   "execution_count": 6,
   "metadata": {},
   "outputs": [
    {
     "data": {
      "text/plain": [
       "((15315, 7), (5433, 7))"
      ]
     },
     "execution_count": 6,
     "metadata": {},
     "output_type": "execute_result"
    }
   ],
   "source": [
    "df.groupby(\"formula\").count().shape, df_no_nist.groupby(\"formula\").count().shape"
   ]
  },
  {
   "cell_type": "code",
   "execution_count": 7,
   "metadata": {},
   "outputs": [
    {
     "data": {
      "text/html": [
       "<div>\n",
       "<style scoped>\n",
       "    .dataframe tbody tr th:only-of-type {\n",
       "        vertical-align: middle;\n",
       "    }\n",
       "\n",
       "    .dataframe tbody tr th {\n",
       "        vertical-align: top;\n",
       "    }\n",
       "\n",
       "    .dataframe thead th {\n",
       "        text-align: right;\n",
       "    }\n",
       "</style>\n",
       "<table border=\"1\" class=\"dataframe\">\n",
       "  <thead>\n",
       "    <tr style=\"text-align: right;\">\n",
       "      <th></th>\n",
       "      <th>dataset</th>\n",
       "      <th>spec</th>\n",
       "      <th>name</th>\n",
       "      <th>formula</th>\n",
       "      <th>smiles</th>\n",
       "      <th>inchikey</th>\n",
       "      <th>instrument</th>\n",
       "    </tr>\n",
       "    <tr>\n",
       "      <th>ionization</th>\n",
       "      <th></th>\n",
       "      <th></th>\n",
       "      <th></th>\n",
       "      <th></th>\n",
       "      <th></th>\n",
       "      <th></th>\n",
       "      <th></th>\n",
       "    </tr>\n",
       "  </thead>\n",
       "  <tbody>\n",
       "    <tr>\n",
       "      <th>[M+H3N+H]+</th>\n",
       "      <td>1412</td>\n",
       "      <td>1412</td>\n",
       "      <td>681</td>\n",
       "      <td>1412</td>\n",
       "      <td>1412</td>\n",
       "      <td>1412</td>\n",
       "      <td>1412</td>\n",
       "    </tr>\n",
       "    <tr>\n",
       "      <th>[M+H]+</th>\n",
       "      <td>29642</td>\n",
       "      <td>29642</td>\n",
       "      <td>21439</td>\n",
       "      <td>29642</td>\n",
       "      <td>29642</td>\n",
       "      <td>29642</td>\n",
       "      <td>29642</td>\n",
       "    </tr>\n",
       "    <tr>\n",
       "      <th>[M+K]+</th>\n",
       "      <td>158</td>\n",
       "      <td>158</td>\n",
       "      <td>138</td>\n",
       "      <td>158</td>\n",
       "      <td>158</td>\n",
       "      <td>158</td>\n",
       "      <td>158</td>\n",
       "    </tr>\n",
       "    <tr>\n",
       "      <th>[M+Na]+</th>\n",
       "      <td>5968</td>\n",
       "      <td>5968</td>\n",
       "      <td>4888</td>\n",
       "      <td>5968</td>\n",
       "      <td>5968</td>\n",
       "      <td>5968</td>\n",
       "      <td>5968</td>\n",
       "    </tr>\n",
       "    <tr>\n",
       "      <th>[M-H2O+H]+</th>\n",
       "      <td>7104</td>\n",
       "      <td>7104</td>\n",
       "      <td>6276</td>\n",
       "      <td>7104</td>\n",
       "      <td>7104</td>\n",
       "      <td>7104</td>\n",
       "      <td>7104</td>\n",
       "    </tr>\n",
       "    <tr>\n",
       "      <th>[M-H4O2+H]+</th>\n",
       "      <td>1507</td>\n",
       "      <td>1507</td>\n",
       "      <td>1276</td>\n",
       "      <td>1507</td>\n",
       "      <td>1507</td>\n",
       "      <td>1507</td>\n",
       "      <td>1507</td>\n",
       "    </tr>\n",
       "    <tr>\n",
       "      <th>[M]+</th>\n",
       "      <td>47</td>\n",
       "      <td>47</td>\n",
       "      <td>0</td>\n",
       "      <td>47</td>\n",
       "      <td>47</td>\n",
       "      <td>47</td>\n",
       "      <td>47</td>\n",
       "    </tr>\n",
       "  </tbody>\n",
       "</table>\n",
       "</div>"
      ],
      "text/plain": [
       "             dataset   spec   name  formula  smiles  inchikey  instrument\n",
       "ionization                                                               \n",
       "[M+H3N+H]+      1412   1412    681     1412    1412      1412        1412\n",
       "[M+H]+         29642  29642  21439    29642   29642     29642       29642\n",
       "[M+K]+           158    158    138      158     158       158         158\n",
       "[M+Na]+         5968   5968   4888     5968    5968      5968        5968\n",
       "[M-H2O+H]+      7104   7104   6276     7104    7104      7104        7104\n",
       "[M-H4O2+H]+     1507   1507   1276     1507    1507      1507        1507\n",
       "[M]+              47     47      0       47      47        47          47"
      ]
     },
     "metadata": {},
     "output_type": "display_data"
    },
    {
     "data": {
      "text/html": [
       "<div>\n",
       "<style scoped>\n",
       "    .dataframe tbody tr th:only-of-type {\n",
       "        vertical-align: middle;\n",
       "    }\n",
       "\n",
       "    .dataframe tbody tr th {\n",
       "        vertical-align: top;\n",
       "    }\n",
       "\n",
       "    .dataframe thead th {\n",
       "        text-align: right;\n",
       "    }\n",
       "</style>\n",
       "<table border=\"1\" class=\"dataframe\">\n",
       "  <thead>\n",
       "    <tr style=\"text-align: right;\">\n",
       "      <th></th>\n",
       "      <th>dataset</th>\n",
       "      <th>spec</th>\n",
       "      <th>name</th>\n",
       "      <th>formula</th>\n",
       "      <th>smiles</th>\n",
       "      <th>inchikey</th>\n",
       "      <th>instrument</th>\n",
       "    </tr>\n",
       "    <tr>\n",
       "      <th>ionization</th>\n",
       "      <th></th>\n",
       "      <th></th>\n",
       "      <th></th>\n",
       "      <th></th>\n",
       "      <th></th>\n",
       "      <th></th>\n",
       "      <th></th>\n",
       "    </tr>\n",
       "  </thead>\n",
       "  <tbody>\n",
       "    <tr>\n",
       "      <th>[M+H3N+H]+</th>\n",
       "      <td>718</td>\n",
       "      <td>718</td>\n",
       "      <td>0</td>\n",
       "      <td>718</td>\n",
       "      <td>718</td>\n",
       "      <td>718</td>\n",
       "      <td>718</td>\n",
       "    </tr>\n",
       "    <tr>\n",
       "      <th>[M+H]+</th>\n",
       "      <td>8030</td>\n",
       "      <td>8030</td>\n",
       "      <td>0</td>\n",
       "      <td>8030</td>\n",
       "      <td>8030</td>\n",
       "      <td>8030</td>\n",
       "      <td>8030</td>\n",
       "    </tr>\n",
       "    <tr>\n",
       "      <th>[M+K]+</th>\n",
       "      <td>20</td>\n",
       "      <td>20</td>\n",
       "      <td>0</td>\n",
       "      <td>20</td>\n",
       "      <td>20</td>\n",
       "      <td>20</td>\n",
       "      <td>20</td>\n",
       "    </tr>\n",
       "    <tr>\n",
       "      <th>[M+Na]+</th>\n",
       "      <td>998</td>\n",
       "      <td>998</td>\n",
       "      <td>0</td>\n",
       "      <td>998</td>\n",
       "      <td>998</td>\n",
       "      <td>998</td>\n",
       "      <td>998</td>\n",
       "    </tr>\n",
       "    <tr>\n",
       "      <th>[M-H2O+H]+</th>\n",
       "      <td>707</td>\n",
       "      <td>707</td>\n",
       "      <td>0</td>\n",
       "      <td>707</td>\n",
       "      <td>707</td>\n",
       "      <td>707</td>\n",
       "      <td>707</td>\n",
       "    </tr>\n",
       "    <tr>\n",
       "      <th>[M-H4O2+H]+</th>\n",
       "      <td>189</td>\n",
       "      <td>189</td>\n",
       "      <td>0</td>\n",
       "      <td>189</td>\n",
       "      <td>189</td>\n",
       "      <td>189</td>\n",
       "      <td>189</td>\n",
       "    </tr>\n",
       "    <tr>\n",
       "      <th>[M]+</th>\n",
       "      <td>47</td>\n",
       "      <td>47</td>\n",
       "      <td>0</td>\n",
       "      <td>47</td>\n",
       "      <td>47</td>\n",
       "      <td>47</td>\n",
       "      <td>47</td>\n",
       "    </tr>\n",
       "  </tbody>\n",
       "</table>\n",
       "</div>"
      ],
      "text/plain": [
       "             dataset  spec  name  formula  smiles  inchikey  instrument\n",
       "ionization                                                             \n",
       "[M+H3N+H]+       718   718     0      718     718       718         718\n",
       "[M+H]+          8030  8030     0     8030    8030      8030        8030\n",
       "[M+K]+            20    20     0       20      20        20          20\n",
       "[M+Na]+          998   998     0      998     998       998         998\n",
       "[M-H2O+H]+       707   707     0      707     707       707         707\n",
       "[M-H4O2+H]+      189   189     0      189     189       189         189\n",
       "[M]+              47    47     0       47      47        47          47"
      ]
     },
     "metadata": {},
     "output_type": "display_data"
    }
   ],
   "source": [
    "display(df.groupby(\"ionization\").count())\n",
    "display(df_no_nist.groupby(\"ionization\").count())"
   ]
  },
  {
   "cell_type": "code",
   "execution_count": 8,
   "metadata": {},
   "outputs": [
    {
     "data": {
      "text/html": [
       "<div>\n",
       "<style scoped>\n",
       "    .dataframe tbody tr th:only-of-type {\n",
       "        vertical-align: middle;\n",
       "    }\n",
       "\n",
       "    .dataframe tbody tr th {\n",
       "        vertical-align: top;\n",
       "    }\n",
       "\n",
       "    .dataframe thead th {\n",
       "        text-align: right;\n",
       "    }\n",
       "</style>\n",
       "<table border=\"1\" class=\"dataframe\">\n",
       "  <thead>\n",
       "    <tr style=\"text-align: right;\">\n",
       "      <th></th>\n",
       "      <th>spec</th>\n",
       "    </tr>\n",
       "    <tr>\n",
       "      <th>Fold_0</th>\n",
       "      <th></th>\n",
       "    </tr>\n",
       "  </thead>\n",
       "  <tbody>\n",
       "    <tr>\n",
       "      <th>test</th>\n",
       "      <td>2205</td>\n",
       "    </tr>\n",
       "    <tr>\n",
       "      <th>train</th>\n",
       "      <td>7727</td>\n",
       "    </tr>\n",
       "    <tr>\n",
       "      <th>val</th>\n",
       "      <td>777</td>\n",
       "    </tr>\n",
       "  </tbody>\n",
       "</table>\n",
       "</div>"
      ],
      "text/plain": [
       "        spec\n",
       "Fold_0      \n",
       "test    2205\n",
       "train   7727\n",
       "val      777"
      ]
     },
     "execution_count": 8,
     "metadata": {},
     "output_type": "execute_result"
    }
   ],
   "source": [
    "split_1 = data_folder / \"splits/split_1.tsv\"\n",
    "split_df = pd.read_csv(split_1, sep=\"\\t\")\n",
    "split_df.groupby(\"Fold_0\").count()"
   ]
  },
  {
   "cell_type": "code",
   "execution_count": 9,
   "metadata": {},
   "outputs": [
    {
     "data": {
      "text/html": [
       "<div>\n",
       "<style scoped>\n",
       "    .dataframe tbody tr th:only-of-type {\n",
       "        vertical-align: middle;\n",
       "    }\n",
       "\n",
       "    .dataframe tbody tr th {\n",
       "        vertical-align: top;\n",
       "    }\n",
       "\n",
       "    .dataframe thead th {\n",
       "        text-align: right;\n",
       "    }\n",
       "</style>\n",
       "<table border=\"1\" class=\"dataframe\">\n",
       "  <thead>\n",
       "    <tr style=\"text-align: right;\">\n",
       "      <th></th>\n",
       "      <th>spec</th>\n",
       "    </tr>\n",
       "    <tr>\n",
       "      <th>Fold_0</th>\n",
       "      <th></th>\n",
       "    </tr>\n",
       "  </thead>\n",
       "  <tbody>\n",
       "    <tr>\n",
       "      <th>exclude</th>\n",
       "      <td>4078</td>\n",
       "    </tr>\n",
       "    <tr>\n",
       "      <th>test</th>\n",
       "      <td>2205</td>\n",
       "    </tr>\n",
       "    <tr>\n",
       "      <th>train</th>\n",
       "      <td>38778</td>\n",
       "    </tr>\n",
       "    <tr>\n",
       "      <th>val</th>\n",
       "      <td>777</td>\n",
       "    </tr>\n",
       "  </tbody>\n",
       "</table>\n",
       "</div>"
      ],
      "text/plain": [
       "          spec\n",
       "Fold_0        \n",
       "exclude   4078\n",
       "test      2205\n",
       "train    38778\n",
       "val        777"
      ]
     },
     "execution_count": 9,
     "metadata": {},
     "output_type": "execute_result"
    }
   ],
   "source": [
    "split_1 = data_folder / \"splits/split_1_with_nist.tsv\"\n",
    "split_df = pd.read_csv(split_1, sep=\"\\t\")\n",
    "split_df.groupby(\"Fold_0\").count()"
   ]
  },
  {
   "attachments": {},
   "cell_type": "markdown",
   "metadata": {},
   "source": [
    "## Investigating element counts"
   ]
  },
  {
   "cell_type": "code",
   "execution_count": 18,
   "metadata": {},
   "outputs": [
    {
     "name": "stdout",
     "output_type": "stream",
     "text": [
      "45838\n"
     ]
    }
   ],
   "source": [
    "uniq_forms = df_no_nist['formula'].values\n",
    "uniq_forms = df['formula'].values\n",
    "# uniq_forms = pd.read_csv(\"../data/casmi22/CASMI_labels.tsv\", sep=\"\\t\")['formula'].unique()\n",
    "print(len(uniq_forms))"
   ]
  },
  {
   "cell_type": "code",
   "execution_count": 19,
   "metadata": {},
   "outputs": [],
   "source": [
    "# Convert each form into a vector of elements using common\n",
    "# elements in the dataset\n",
    "vecs = [common.formula_to_dense(i) for i in uniq_forms]\n",
    "vecs = np.array(vecs)"
   ]
  },
  {
   "cell_type": "code",
   "execution_count": 20,
   "metadata": {},
   "outputs": [],
   "source": [
    "el_to_ind = common.element_to_ind\n",
    "ind_to_el = {v: k for k, v in el_to_ind.items()}"
   ]
  },
  {
   "cell_type": "code",
   "execution_count": 21,
   "metadata": {},
   "outputs": [
    {
     "name": "stdout",
     "output_type": "stream",
     "text": [
      "H: 125.0\n",
      "C: 72.0\n",
      "O: 36.0\n",
      "N: 17.0\n",
      "F: 17.0\n",
      "Cl: 10.0\n",
      "P: 6.0\n",
      "S: 6.0\n",
      "Si: 6.0\n",
      "I: 4.0\n",
      "Br: 3.0\n",
      "Se: 2.0\n",
      "As: 2.0\n",
      "B: 1.0\n",
      "Fe: 1.0\n",
      "Co: 0.0\n",
      "K: 0.0\n",
      "Na: 0.0\n"
     ]
    }
   ],
   "source": [
    "max_el = vecs.max(axis=0)\n",
    "# Print in each column\n",
    "tuples = []\n",
    "for i in range(max_el.shape[0]):\n",
    "    tuples.append((ind_to_el[i], max_el[i]))\n",
    "# Sort and print\n",
    "tuples = sorted(tuples, key=lambda x: x[1], reverse=True)\n",
    "# Join with \"\\n\" and print\n",
    "tuples = \"\\n\".join([f\"{i[0]}: {i[1]}\" for i in tuples])\n",
    "\n",
    "print(tuples)"
   ]
  },
  {
   "cell_type": "code",
   "execution_count": 22,
   "metadata": {},
   "outputs": [],
   "source": [
    "# For each element get a histogram for how many counts there are across whole dataset\n",
    "el_to_counts = {}\n",
    "for i in range(max_el.shape[0]):\n",
    "    ind = i\n",
    "    el = ind_to_el[ind]\n",
    "    dist = vecs[:, ind].astype(int)\n",
    "    # Get counts\n",
    "    el_to_counts[el] = Counter(dist)"
   ]
  },
  {
   "cell_type": "code",
   "execution_count": 23,
   "metadata": {},
   "outputs": [
    {
     "name": "stdout",
     "output_type": "stream",
     "text": [
      "{'C': 34.0, 'N': 4.0, 'P': 0.0, 'O': 13.0, 'S': 1.0, 'Si': 0.0, 'I': 0.0, 'H': 49.0, 'Cl': 1.0, 'F': 1.0, 'Br': 0.0, 'B': 0.0, 'Se': 0.0, 'Fe': 0.0, 'Co': 0.0, 'As': 0.0, 'K': 0.0, 'Na': 0.0}\n",
      "{\n",
      "    \"C\": 34.0,\n",
      "    \"N\": 4.0,\n",
      "    \"P\": 0.0,\n",
      "    \"O\": 13.0,\n",
      "    \"S\": 1.0,\n",
      "    \"Si\": 0.0,\n",
      "    \"I\": 0.0,\n",
      "    \"H\": 49.0,\n",
      "    \"Cl\": 1.0,\n",
      "    \"F\": 1.0,\n",
      "    \"Br\": 0.0,\n",
      "    \"B\": 0.0,\n",
      "    \"Se\": 0.0,\n",
      "    \"Fe\": 0.0,\n",
      "    \"Co\": 0.0,\n",
      "    \"As\": 0.0,\n",
      "    \"K\": 0.0,\n",
      "    \"Na\": 0.0\n",
      "}\n"
     ]
    }
   ],
   "source": [
    "# For each element, calculate the integer needed to capture thresh percentage\n",
    "thresh = 0.95\n",
    "el_to_thresh = {}\n",
    "el_range = np.arange(256)\n",
    "for el, counts in el_to_counts.items():\n",
    "    # Get a cumulative sum of counts\n",
    "    total = sum(counts.values())\n",
    "    cum_sum = [sum([v for k,v in counts.items() if k <= r ]) for r in el_range]\n",
    "    cum_sum_frac = [i / total for i in cum_sum]\n",
    "\n",
    "    # Get first ind for which cum_sum_frac is greater than thresh\n",
    "    ind = np.where(np.array(cum_sum_frac) >= thresh)[0][0]\n",
    "    el_to_thresh[el] = float(ind)\n",
    "print(el_to_thresh)\n",
    "# Pretty print with json dump\n",
    "print(json.dumps(el_to_thresh, indent=4))\n"
   ]
  },
  {
   "cell_type": "code",
   "execution_count": 24,
   "metadata": {},
   "outputs": [
    {
     "name": "stdout",
     "output_type": "stream",
     "text": [
      "[999. 999.   3. 999.   5.   0.   1. 999.   1.   1.   1.   0.   0.   0.\n",
      "   0.   0.   0.   0.]\n",
      "0.9316505955757232\n"
     ]
    }
   ],
   "source": [
    "# Check the fraction of vecs that are below max formula\n",
    "EL_STR_DEFAULT = 'C[0-]N[0-]O[0-]H[0-]S[0-5]P[0-3]I[0-1]Cl[0-1]F[0-1]Br[0-1]'\n",
    "decomp.sirius_decomp.parse_element_str(EL_STR_DEFAULT)\n",
    "# Build max form\n",
    "max_form = \"\"\n",
    "for el, el_dict in decomp.sirius_decomp.parse_element_str(EL_STR_DEFAULT).items():\n",
    "    max_form += el * el_dict['max']\n",
    "dense_max = common.formula_to_dense(max_form)\n",
    "print(dense_max)\n",
    "\n",
    "# Get fraction of vecs that are _all_ below max form\n",
    "print((vecs <= dense_max).all(axis=1).mean())"
   ]
  },
  {
   "cell_type": "code",
   "execution_count": 25,
   "metadata": {},
   "outputs": [
    {
     "data": {
      "text/plain": [
       "Counter({0: 43850, 1: 1838, 2: 144, 3: 6})"
      ]
     },
     "execution_count": 25,
     "metadata": {},
     "output_type": "execute_result"
    }
   ],
   "source": [
    "el_to_counts[el]"
   ]
  }
 ],
 "metadata": {
  "kernelspec": {
   "display_name": "ms-gen",
   "language": "python",
   "name": "python3"
  },
  "language_info": {
   "codemirror_mode": {
    "name": "ipython",
    "version": 3
   },
   "file_extension": ".py",
   "mimetype": "text/x-python",
   "name": "python",
   "nbconvert_exporter": "python",
   "pygments_lexer": "ipython3",
   "version": "3.8.13"
  },
  "orig_nbformat": 4,
  "vscode": {
   "interpreter": {
    "hash": "0104df62c80ee1845876b5ec5b2a8b2e89ea0f28159e1f86b83bf27a253591c7"
   }
  }
 },
 "nbformat": 4,
 "nbformat_minor": 2
}

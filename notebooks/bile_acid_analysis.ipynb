{
 "cells": [
  {
   "cell_type": "code",
   "execution_count": 2,
   "metadata": {},
   "outputs": [],
   "source": [
    "import numpy as np\n",
    "import pandas as pd\n",
    "from pathlib import Path\n",
    "import mist_cf.common as common\n",
    "import matplotlib.pyplot as plt"
   ]
  },
  {
   "cell_type": "code",
   "execution_count": 3,
   "metadata": {},
   "outputs": [],
   "source": [
    "bile_acid_label = \"../data/bile_acid/bile_acid_refined_processed_labels.tsv\"\n",
    "bile_acid_label_df = pd.read_csv(bile_acid_label, sep=\"\\t\")\n",
    "\n",
    "nist_label = \"../data/nist_canopus/labels.tsv\"\n",
    "nist_df = pd.read_csv(nist_label, sep=\"\\t\")\n",
    "nist_spec_to_formula = dict(zip(nist_df.spec.values, nist_df.formula.values))\n",
    "\n",
    "nist_split_file = \"../data/nist_canopus/splits/split_1_with_nist.tsv\"\n",
    "nist_split_df = pd.read_csv(nist_split_file, sep=\"\\t\")\n",
    "nist_split_df = nist_split_df[nist_split_df[\"Fold_0\"]==\"train\"]\n",
    "\n",
    "stat_dir = Path(\"../results/bile_acid_stat/\")\n",
    "stat_dir.mkdir(exist_ok=True)"
   ]
  },
  {
   "attachments": {},
   "cell_type": "markdown",
   "metadata": {},
   "source": [
    "## Dataset Statistics"
   ]
  },
  {
   "cell_type": "code",
   "execution_count": 4,
   "metadata": {},
   "outputs": [],
   "source": [
    "bile_acid_specs = bile_acid_label_df.name.values\n",
    "bile_acid_formulae = bile_acid_label_df.formula.values"
   ]
  },
  {
   "cell_type": "code",
   "execution_count": 5,
   "metadata": {},
   "outputs": [
    {
     "data": {
      "text/plain": [
       "47"
      ]
     },
     "execution_count": 5,
     "metadata": {},
     "output_type": "execute_result"
    }
   ],
   "source": [
    "# unique chemical formula out of 1k bile acid spec\n",
    "len(np.unique(bile_acid_formulae))"
   ]
  },
  {
   "cell_type": "code",
   "execution_count": 6,
   "metadata": {},
   "outputs": [
    {
     "data": {
      "text/plain": [
       "213"
      ]
     },
     "execution_count": 6,
     "metadata": {},
     "output_type": "execute_result"
    }
   ],
   "source": [
    "# unique specs out of 1k bile acid spec\n",
    "len(np.unique(bile_acid_specs))"
   ]
  },
  {
   "cell_type": "code",
   "execution_count": 7,
   "metadata": {},
   "outputs": [],
   "source": [
    "# form, cnt = np.unique(bile_acid_formulae, return_counts=True)\n",
    "# pd.DataFrame.from_dict({'Formula': form, \n",
    "#                         'Count': cnt}).to_csv(stat_dir / 'bile_acid_unique_form.tsv',\n",
    "#                                                                sep='\\t',\n",
    "#                                                                index=False)\n",
    "\n",
    "# spec, cnt = np.unique(bile_acid_specs, return_counts=True)\n",
    "# pd.DataFrame.from_dict({'Spec': spec, \n",
    "#                         'Count': cnt}).to_csv(stat_dir / 'bile_acid_unique_spec.tsv',\n",
    "#                                                                sep='\\t',\n",
    "#                                                                index=False)"
   ]
  },
  {
   "attachments": {},
   "cell_type": "markdown",
   "metadata": {},
   "source": [
    "## Overlapped formula and spec found in our training set"
   ]
  },
  {
   "cell_type": "code",
   "execution_count": 8,
   "metadata": {},
   "outputs": [
    {
     "data": {
      "text/plain": [
       "39"
      ]
     },
     "execution_count": 8,
     "metadata": {},
     "output_type": "execute_result"
    }
   ],
   "source": [
    "train_specs = nist_split_df.spec.values\n",
    "overlap_specs = []\n",
    "\n",
    "for b_spec in bile_acid_specs:\n",
    "    if b_spec in train_specs:\n",
    "        overlap_specs.append(b_spec)\n",
    "\n",
    "# The total number of overlapped specs\n",
    "len(overlap_specs)"
   ]
  },
  {
   "cell_type": "code",
   "execution_count": 9,
   "metadata": {},
   "outputs": [
    {
     "data": {
      "text/plain": [
       "10"
      ]
     },
     "execution_count": 9,
     "metadata": {},
     "output_type": "execute_result"
    }
   ],
   "source": [
    "specs, cnt = np.unique(overlap_specs, return_counts=True)\n",
    "spec_forms = []\n",
    "for spec in specs:\n",
    "    spec_forms.append(nist_spec_to_formula[spec])\n",
    "pd.DataFrame.from_dict({'Specrum ID': specs, \n",
    "                        'Count': cnt,\n",
    "                        'Precursor Formula': spec_forms\n",
    "                        }).to_csv(stat_dir / 'bile_acid_unique_overlap_spec_annotated.tsv',\n",
    "                                                            sep='\\t',\n",
    "                                                            index=False)\n",
    "# The number of unique overlapped specs\n",
    "len(specs)"
   ]
  },
  {
   "cell_type": "code",
   "execution_count": 10,
   "metadata": {},
   "outputs": [
    {
     "data": {
      "text/plain": [
       "210"
      ]
     },
     "execution_count": 10,
     "metadata": {},
     "output_type": "execute_result"
    }
   ],
   "source": [
    "nist_split_formulae = [nist_spec_to_formula[spec] for spec in train_specs]\n",
    "overlap_formulae = []\n",
    "\n",
    "for b_form in bile_acid_formulae:\n",
    "    if b_form in nist_split_formulae:\n",
    "        overlap_formulae.append(b_form)\n",
    "\n",
    "# The total number of overlapped forms\n",
    "len(overlap_formulae)"
   ]
  },
  {
   "cell_type": "code",
   "execution_count": 11,
   "metadata": {},
   "outputs": [
    {
     "data": {
      "text/plain": [
       "24"
      ]
     },
     "execution_count": 11,
     "metadata": {},
     "output_type": "execute_result"
    }
   ],
   "source": [
    "unique_overlap_form, cnt = np.unique(overlap_formulae, return_counts=True)\n",
    "# pd.DataFrame.from_dict({'Precursor Formula': unique_overlap_form,\n",
    "#                          'Count': cnt}).to_csv(stat_dir / 'overlap_form.tsv',\n",
    "#                                                                sep='\\t',\n",
    "#                                                                index=False)\n",
    "\n",
    "# The number of unique forms\n",
    "len(unique_overlap_form)"
   ]
  },
  {
   "cell_type": "code",
   "execution_count": 12,
   "metadata": {},
   "outputs": [],
   "source": [
    "form, cnt = np.unique(bile_acid_formulae, return_counts=True)\n",
    "overlap = []\n",
    "for f in form:\n",
    "    if f in unique_overlap_form:\n",
    "        overlap.append('Yes')\n",
    "    else:\n",
    "        overlap.append('No')\n",
    "pd.DataFrame.from_dict({'Formula': form, \n",
    "                        'Count': cnt,\n",
    "                        'Overlap': overlap\n",
    "                        }).to_csv(stat_dir / 'bile_acid_unique_form_annotated.tsv',\n",
    "                                                               sep='\\t',\n",
    "                                                               index=False)"
   ]
  },
  {
   "attachments": {},
   "cell_type": "markdown",
   "metadata": {},
   "source": [
    "## Create MIST-CF output sheet"
   ]
  },
  {
   "cell_type": "code",
   "execution_count": 13,
   "metadata": {},
   "outputs": [],
   "source": [
    "infile = \"../results/mist_cf_predict_bile_acid/formatted_output.tsv\"\n",
    "outfile = \"../results/mist_cf_predict_bile_acid/mist_cf_top_5_annotation.csv\"\n",
    "\n",
    "k = 5\n",
    "df = pd.read_csv(infile, sep=\"\\t\")\n",
    "counted = df.sort_values(\"scores\",\n",
    "                         ascending=False).groupby('spec').head(k).sort_values([\"spec\",\n",
    "                                                                               \"scores\"],\n",
    "                                                                              ascending=False)\n",
    "spec_counts = counted.groupby(\"spec\").count()['scores'].values\n",
    "inds = [j for i in spec_counts for j in np.arange(1, i+1)]\n",
    "counted['rank'] = inds\n",
    "counted = counted.sort_values(by=[\"spec\", \"rank\"]).reset_index(drop=True)\n",
    "\n",
    "out_df = counted.set_index('spec').join(bile_acid_label_df.set_index('spec'),\n",
    "                       how='inner')\n",
    "out_df=out_df.reset_index()\n",
    "out_df=out_df.rename(columns={'spec':'ScanNumber',\n",
    "                              'scores': 'MIST_CF_score',\n",
    "                              'parentmasses': 'MS1',\n",
    "                              'name': 'SpectrumID',\n",
    "                              'formula': 'true_form',\n",
    "                              'ionization': 'true_ion'\n",
    "                              })\n",
    "\n",
    "# Reorder columns\n",
    "cols = out_df.columns.tolist()\n",
    "reordered_cols = [\"ScanNumber\"]+cols[6:]+['MS1',\n",
    "                                           'cand_form',\n",
    "                                           'cand_ion',\n",
    "                                           'MIST_CF_score',\n",
    "                                           'rank'\n",
    "                                           ]\n",
    "out_df = out_df[reordered_cols]\n",
    "out_df.to_csv(outfile, index=None)"
   ]
  },
  {
   "attachments": {},
   "cell_type": "markdown",
   "metadata": {},
   "source": [
    "## Compute accuracy not including adducts"
   ]
  },
  {
   "cell_type": "code",
   "execution_count": 25,
   "metadata": {},
   "outputs": [],
   "source": [
    "res_files = [\"../results/sirius_predict_bile_acid/sirius_1/evaluation_results/full_out.tsv\",\n",
    "             \"../results/mist_cf_predict_bile_acid/evaluation_results/full_out.tsv\",]\n",
    "model_names = [\"Sirius\", \"MIST-CF\"]\n",
    "\n",
    "all_dfs = []\n",
    "for res, model in zip(res_files, model_names):\n",
    "    df = pd.read_csv(res, sep=\"\\t\")\n",
    "    df['model'] = model\n",
    "    df['split'] = \"bile_acid\"\n",
    "    all_dfs.append(df)\n",
    "\n",
    "all_df = pd.concat(all_dfs, axis=0)"
   ]
  },
  {
   "cell_type": "code",
   "execution_count": 28,
   "metadata": {},
   "outputs": [
    {
     "name": "stdout",
     "output_type": "stream",
     "text": [
      "[{'k': 1, 'acc': 0.7015873015873015, 'model': 'MIST-CF', 'split': 'bile_acid', 'val': 'ind_found'}, {'k': 2, 'acc': 0.8137566137566138, 'model': 'MIST-CF', 'split': 'bile_acid', 'val': 'ind_found'}, {'k': 3, 'acc': 0.9502645502645503, 'model': 'MIST-CF', 'split': 'bile_acid', 'val': 'ind_found'}, {'k': 1, 'acc': 0.726984126984127, 'model': 'MIST-CF', 'split': 'bile_acid', 'val': 'ind_found_adduct'}, {'k': 2, 'acc': 0.9693121693121693, 'model': 'MIST-CF', 'split': 'bile_acid', 'val': 'ind_found_adduct'}, {'k': 3, 'acc': 0.9925925925925926, 'model': 'MIST-CF', 'split': 'bile_acid', 'val': 'ind_found_adduct'}, {'k': 1, 'acc': 0.7788359788359789, 'model': 'MIST-CF', 'split': 'bile_acid', 'val': 'ind_found_full_form'}, {'k': 2, 'acc': 0.8476190476190476, 'model': 'MIST-CF', 'split': 'bile_acid', 'val': 'ind_found_full_form'}, {'k': 3, 'acc': 0.9915343915343915, 'model': 'MIST-CF', 'split': 'bile_acid', 'val': 'ind_found_full_form'}, {'k': 'num_submitted', 'val': 'num_submitted', 'acc': 945, 'model': 'MIST-CF', 'split': 'bile_acid'}, {'k': 1, 'acc': 0.37777777777777777, 'model': 'Sirius', 'split': 'bile_acid', 'val': 'ind_found'}, {'k': 2, 'acc': 0.47724867724867726, 'model': 'Sirius', 'split': 'bile_acid', 'val': 'ind_found'}, {'k': 3, 'acc': 0.5195767195767196, 'model': 'Sirius', 'split': 'bile_acid', 'val': 'ind_found'}, {'k': 1, 'acc': 0.9079365079365079, 'model': 'Sirius', 'split': 'bile_acid', 'val': 'ind_found_adduct'}, {'k': 2, 'acc': 0.9142857142857143, 'model': 'Sirius', 'split': 'bile_acid', 'val': 'ind_found_adduct'}, {'k': 3, 'acc': 0.9142857142857143, 'model': 'Sirius', 'split': 'bile_acid', 'val': 'ind_found_adduct'}, {'k': 1, 'acc': 0.43492063492063493, 'model': 'Sirius', 'split': 'bile_acid', 'val': 'ind_found_full_form'}, {'k': 2, 'acc': 0.5375661375661376, 'model': 'Sirius', 'split': 'bile_acid', 'val': 'ind_found_full_form'}, {'k': 3, 'acc': 0.5830687830687831, 'model': 'Sirius', 'split': 'bile_acid', 'val': 'ind_found_full_form'}, {'k': 'num_submitted', 'val': 'num_submitted', 'acc': 938, 'model': 'Sirius', 'split': 'bile_acid'}]\n"
     ]
    }
   ],
   "source": [
    "# Group by method, split, and compute top k accuracy through 20\n",
    "\n",
    "denom = len(bile_acid_label_df)\n",
    "def top_k_accuracy(x, top_k, key_str=\"ind_found\"):\n",
    "    k_dict = []\n",
    "    for k in top_k: \n",
    "        acc = np.sum(x[key_str] <= k)  / denom\n",
    "        k_dict.append({\"k\": k, \"acc\": acc})\n",
    "    return k_dict\n",
    "\n",
    "top_k = [1, 2, 3]\n",
    "#top_k_acc = all_df.groupby([\"model\", \"split\",]).apply(lambda x: top_k_accuracy(x, top_k))\n",
    "\n",
    "keys = [\"model\", \"split\"]#, \"mass_bin\"]\n",
    "key_strs = [\"ind_found\", \"ind_found_adduct\", \"ind_found_full_form\"]\n",
    "out_df = []\n",
    "for names, sub_df in all_df.groupby(keys):\n",
    "    update_dict = dict(zip(keys, names))\n",
    "    for key_str in key_strs:\n",
    "        sub_dicts = top_k_accuracy(sub_df, top_k, key_str=key_str)\n",
    "\n",
    "        out_df.extend([dict(**i, **update_dict, val=key_str) for i in sub_dicts ])\n",
    "    num_submitted = int(len(sub_df))\n",
    "    out_df.append(dict(k=\"num_submitted\", val=\"num_submitted\", acc=num_submitted,  **update_dict))\n",
    "print(out_df)\n",
    "out_df = pd.DataFrame(out_df)"
   ]
  },
  {
   "cell_type": "code",
   "execution_count": 29,
   "metadata": {},
   "outputs": [
    {
     "data": {
      "text/html": [
       "<div>\n",
       "<style scoped>\n",
       "    .dataframe tbody tr th:only-of-type {\n",
       "        vertical-align: middle;\n",
       "    }\n",
       "\n",
       "    .dataframe tbody tr th {\n",
       "        vertical-align: top;\n",
       "    }\n",
       "\n",
       "    .dataframe thead th {\n",
       "        text-align: right;\n",
       "    }\n",
       "</style>\n",
       "<table border=\"1\" class=\"dataframe\">\n",
       "  <thead>\n",
       "    <tr style=\"text-align: right;\">\n",
       "      <th></th>\n",
       "      <th>k</th>\n",
       "      <th>acc</th>\n",
       "      <th>model</th>\n",
       "      <th>split</th>\n",
       "      <th>val</th>\n",
       "    </tr>\n",
       "  </thead>\n",
       "  <tbody>\n",
       "    <tr>\n",
       "      <th>0</th>\n",
       "      <td>1</td>\n",
       "      <td>0.701587</td>\n",
       "      <td>MIST-CF</td>\n",
       "      <td>bile_acid</td>\n",
       "      <td>ind_found</td>\n",
       "    </tr>\n",
       "    <tr>\n",
       "      <th>1</th>\n",
       "      <td>2</td>\n",
       "      <td>0.813757</td>\n",
       "      <td>MIST-CF</td>\n",
       "      <td>bile_acid</td>\n",
       "      <td>ind_found</td>\n",
       "    </tr>\n",
       "    <tr>\n",
       "      <th>2</th>\n",
       "      <td>3</td>\n",
       "      <td>0.950265</td>\n",
       "      <td>MIST-CF</td>\n",
       "      <td>bile_acid</td>\n",
       "      <td>ind_found</td>\n",
       "    </tr>\n",
       "    <tr>\n",
       "      <th>3</th>\n",
       "      <td>1</td>\n",
       "      <td>0.726984</td>\n",
       "      <td>MIST-CF</td>\n",
       "      <td>bile_acid</td>\n",
       "      <td>ind_found_adduct</td>\n",
       "    </tr>\n",
       "    <tr>\n",
       "      <th>4</th>\n",
       "      <td>2</td>\n",
       "      <td>0.969312</td>\n",
       "      <td>MIST-CF</td>\n",
       "      <td>bile_acid</td>\n",
       "      <td>ind_found_adduct</td>\n",
       "    </tr>\n",
       "    <tr>\n",
       "      <th>5</th>\n",
       "      <td>3</td>\n",
       "      <td>0.992593</td>\n",
       "      <td>MIST-CF</td>\n",
       "      <td>bile_acid</td>\n",
       "      <td>ind_found_adduct</td>\n",
       "    </tr>\n",
       "    <tr>\n",
       "      <th>6</th>\n",
       "      <td>1</td>\n",
       "      <td>0.778836</td>\n",
       "      <td>MIST-CF</td>\n",
       "      <td>bile_acid</td>\n",
       "      <td>ind_found_full_form</td>\n",
       "    </tr>\n",
       "    <tr>\n",
       "      <th>7</th>\n",
       "      <td>2</td>\n",
       "      <td>0.847619</td>\n",
       "      <td>MIST-CF</td>\n",
       "      <td>bile_acid</td>\n",
       "      <td>ind_found_full_form</td>\n",
       "    </tr>\n",
       "    <tr>\n",
       "      <th>8</th>\n",
       "      <td>3</td>\n",
       "      <td>0.991534</td>\n",
       "      <td>MIST-CF</td>\n",
       "      <td>bile_acid</td>\n",
       "      <td>ind_found_full_form</td>\n",
       "    </tr>\n",
       "    <tr>\n",
       "      <th>9</th>\n",
       "      <td>num_submitted</td>\n",
       "      <td>945.000000</td>\n",
       "      <td>MIST-CF</td>\n",
       "      <td>bile_acid</td>\n",
       "      <td>num_submitted</td>\n",
       "    </tr>\n",
       "    <tr>\n",
       "      <th>10</th>\n",
       "      <td>1</td>\n",
       "      <td>0.377778</td>\n",
       "      <td>Sirius</td>\n",
       "      <td>bile_acid</td>\n",
       "      <td>ind_found</td>\n",
       "    </tr>\n",
       "    <tr>\n",
       "      <th>11</th>\n",
       "      <td>2</td>\n",
       "      <td>0.477249</td>\n",
       "      <td>Sirius</td>\n",
       "      <td>bile_acid</td>\n",
       "      <td>ind_found</td>\n",
       "    </tr>\n",
       "    <tr>\n",
       "      <th>12</th>\n",
       "      <td>3</td>\n",
       "      <td>0.519577</td>\n",
       "      <td>Sirius</td>\n",
       "      <td>bile_acid</td>\n",
       "      <td>ind_found</td>\n",
       "    </tr>\n",
       "    <tr>\n",
       "      <th>13</th>\n",
       "      <td>1</td>\n",
       "      <td>0.907937</td>\n",
       "      <td>Sirius</td>\n",
       "      <td>bile_acid</td>\n",
       "      <td>ind_found_adduct</td>\n",
       "    </tr>\n",
       "    <tr>\n",
       "      <th>14</th>\n",
       "      <td>2</td>\n",
       "      <td>0.914286</td>\n",
       "      <td>Sirius</td>\n",
       "      <td>bile_acid</td>\n",
       "      <td>ind_found_adduct</td>\n",
       "    </tr>\n",
       "    <tr>\n",
       "      <th>15</th>\n",
       "      <td>3</td>\n",
       "      <td>0.914286</td>\n",
       "      <td>Sirius</td>\n",
       "      <td>bile_acid</td>\n",
       "      <td>ind_found_adduct</td>\n",
       "    </tr>\n",
       "    <tr>\n",
       "      <th>16</th>\n",
       "      <td>1</td>\n",
       "      <td>0.434921</td>\n",
       "      <td>Sirius</td>\n",
       "      <td>bile_acid</td>\n",
       "      <td>ind_found_full_form</td>\n",
       "    </tr>\n",
       "    <tr>\n",
       "      <th>17</th>\n",
       "      <td>2</td>\n",
       "      <td>0.537566</td>\n",
       "      <td>Sirius</td>\n",
       "      <td>bile_acid</td>\n",
       "      <td>ind_found_full_form</td>\n",
       "    </tr>\n",
       "    <tr>\n",
       "      <th>18</th>\n",
       "      <td>3</td>\n",
       "      <td>0.583069</td>\n",
       "      <td>Sirius</td>\n",
       "      <td>bile_acid</td>\n",
       "      <td>ind_found_full_form</td>\n",
       "    </tr>\n",
       "    <tr>\n",
       "      <th>19</th>\n",
       "      <td>num_submitted</td>\n",
       "      <td>938.000000</td>\n",
       "      <td>Sirius</td>\n",
       "      <td>bile_acid</td>\n",
       "      <td>num_submitted</td>\n",
       "    </tr>\n",
       "  </tbody>\n",
       "</table>\n",
       "</div>"
      ],
      "text/plain": [
       "                k         acc    model      split                  val\n",
       "0               1    0.701587  MIST-CF  bile_acid            ind_found\n",
       "1               2    0.813757  MIST-CF  bile_acid            ind_found\n",
       "2               3    0.950265  MIST-CF  bile_acid            ind_found\n",
       "3               1    0.726984  MIST-CF  bile_acid     ind_found_adduct\n",
       "4               2    0.969312  MIST-CF  bile_acid     ind_found_adduct\n",
       "5               3    0.992593  MIST-CF  bile_acid     ind_found_adduct\n",
       "6               1    0.778836  MIST-CF  bile_acid  ind_found_full_form\n",
       "7               2    0.847619  MIST-CF  bile_acid  ind_found_full_form\n",
       "8               3    0.991534  MIST-CF  bile_acid  ind_found_full_form\n",
       "9   num_submitted  945.000000  MIST-CF  bile_acid        num_submitted\n",
       "10              1    0.377778   Sirius  bile_acid            ind_found\n",
       "11              2    0.477249   Sirius  bile_acid            ind_found\n",
       "12              3    0.519577   Sirius  bile_acid            ind_found\n",
       "13              1    0.907937   Sirius  bile_acid     ind_found_adduct\n",
       "14              2    0.914286   Sirius  bile_acid     ind_found_adduct\n",
       "15              3    0.914286   Sirius  bile_acid     ind_found_adduct\n",
       "16              1    0.434921   Sirius  bile_acid  ind_found_full_form\n",
       "17              2    0.537566   Sirius  bile_acid  ind_found_full_form\n",
       "18              3    0.583069   Sirius  bile_acid  ind_found_full_form\n",
       "19  num_submitted  938.000000   Sirius  bile_acid        num_submitted"
      ]
     },
     "execution_count": 29,
     "metadata": {},
     "output_type": "execute_result"
    }
   ],
   "source": [
    "out_df"
   ]
  },
  {
   "cell_type": "code",
   "execution_count": null,
   "metadata": {},
   "outputs": [],
   "source": []
  }
 ],
 "metadata": {
  "kernelspec": {
   "display_name": "ms-gen",
   "language": "python",
   "name": "python3"
  },
  "language_info": {
   "codemirror_mode": {
    "name": "ipython",
    "version": 3
   },
   "file_extension": ".py",
   "mimetype": "text/x-python",
   "name": "python",
   "nbconvert_exporter": "python",
   "pygments_lexer": "ipython3",
   "version": "3.8.13"
  },
  "orig_nbformat": 4
 },
 "nbformat": 4,
 "nbformat_minor": 2
}

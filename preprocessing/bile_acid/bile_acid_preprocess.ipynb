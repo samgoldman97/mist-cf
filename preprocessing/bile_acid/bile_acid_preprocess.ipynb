{
 "cells": [
  {
   "cell_type": "code",
   "execution_count": 1,
   "metadata": {},
   "outputs": [
    {
     "name": "stderr",
     "output_type": "stream",
     "text": [
      "/home/samlg/.conda/envs/ms-gen/lib/python3.8/site-packages/tqdm/auto.py:22: TqdmWarning: IProgress not found. Please update jupyter and ipywidgets. See https://ipywidgets.readthedocs.io/en/stable/user_install.html\n",
      "  from .autonotebook import tqdm as notebook_tqdm\n"
     ]
    }
   ],
   "source": [
    "import numpy as np\n",
    "import pandas as pd\n",
    "from pathlib import Path\n",
    "import mist_cf.common as common\n",
    "import matplotlib.pyplot as plt"
   ]
  },
  {
   "cell_type": "code",
   "execution_count": 2,
   "metadata": {},
   "outputs": [],
   "source": [
    "# 2 necessary files:\n",
    "# data/bile_acid/bile_acid_refined.csv\n",
    "# data/bile_acid/Refined_24d96e55.mgf"
   ]
  },
  {
   "cell_type": "code",
   "execution_count": 3,
   "metadata": {},
   "outputs": [],
   "source": [
    "quant_file = \"../../data/bile_acid/bile_acid_refined.csv\"\n",
    "mgf_file = \"../../data/bile_acid/Refined_24d96e55.mgf\"\n",
    "\n",
    "export_mgf = \"../../data/bile_acid/bile_acid_refined_processed.mgf\"\n",
    "export_csv = \"../../data/bile_acid/bile_acid_refined_processed.csv\"\n",
    "export_labels = \"../../data/bile_acid/bile_acid_refined_processed_labels.tsv\""
   ]
  },
  {
   "cell_type": "code",
   "execution_count": 4,
   "metadata": {},
   "outputs": [],
   "source": [
    "quant_df = pd.read_csv(quant_file)\n",
    "quant_df.columns = quant_df.iloc[0]\n",
    "quant_df = quant_df.drop(quant_df.index[0])\n",
    "quant_df = quant_df.dropna()\n",
    "\n",
    "# preserve valid adduct\n",
    "\n",
    "quant_df['Adduct'] = quant_df['Adduct'].apply(lambda x: common.ion_remap[x] \n",
    "                                              if x in common.ion_remap\n",
    "                                              else x)"
   ]
  },
  {
   "cell_type": "code",
   "execution_count": 5,
   "metadata": {},
   "outputs": [
    {
     "data": {
      "text/html": [
       "<div>\n",
       "<style scoped>\n",
       "    .dataframe tbody tr th:only-of-type {\n",
       "        vertical-align: middle;\n",
       "    }\n",
       "\n",
       "    .dataframe tbody tr th {\n",
       "        vertical-align: top;\n",
       "    }\n",
       "\n",
       "    .dataframe thead th {\n",
       "        text-align: right;\n",
       "    }\n",
       "</style>\n",
       "<table border=\"1\" class=\"dataframe\">\n",
       "  <thead>\n",
       "    <tr style=\"text-align: right;\">\n",
       "      <th></th>\n",
       "      <th>SpectrumID</th>\n",
       "      <th>is_BA</th>\n",
       "      <th>Compound_Name</th>\n",
       "      <th>Adduct</th>\n",
       "      <th>Precursor_MZ</th>\n",
       "      <th>ExactMass</th>\n",
       "      <th>Smiles</th>\n",
       "      <th>INCHI</th>\n",
       "      <th>IonMode</th>\n",
       "      <th>#Scan#</th>\n",
       "      <th>SharedPeaks</th>\n",
       "      <th>LibMZ</th>\n",
       "      <th>SpecMZ</th>\n",
       "      <th>molecular_formula</th>\n",
       "      <th>TotalIonsMGF</th>\n",
       "      <th>TotalIonsPerSharedPeaks</th>\n",
       "    </tr>\n",
       "  </thead>\n",
       "  <tbody>\n",
       "    <tr>\n",
       "      <th>8</th>\n",
       "      <td>CCMSLIB00005464718</td>\n",
       "      <td>yes</td>\n",
       "      <td>(4R)-4-((3S,5R,9S,10S,13R,14S,17R)-3-hydroxy-1...</td>\n",
       "      <td>2M+H</td>\n",
       "      <td>781.561</td>\n",
       "      <td>390.277</td>\n",
       "      <td>[H][C@@]([C@@H]([C@@]12C)CC[C@@H]1[C@@H](CCC(O...</td>\n",
       "      <td>InChI=1S/C24H38O4/c1-14(4-9-22(27)28)18-7-8-19...</td>\n",
       "      <td>Positive</td>\n",
       "      <td>2832</td>\n",
       "      <td>12</td>\n",
       "      <td>781.561</td>\n",
       "      <td>781.561</td>\n",
       "      <td>C24H38O4</td>\n",
       "      <td>21</td>\n",
       "      <td>57.14285714</td>\n",
       "    </tr>\n",
       "    <tr>\n",
       "      <th>9</th>\n",
       "      <td>CCMSLIB00005464718</td>\n",
       "      <td>yes</td>\n",
       "      <td>(4R)-4-((3S,5R,9S,10S,13R,14S,17R)-3-hydroxy-1...</td>\n",
       "      <td>2M+H</td>\n",
       "      <td>781.561</td>\n",
       "      <td>390.277</td>\n",
       "      <td>[H][C@@]([C@@H]([C@@]12C)CC[C@@H]1[C@@H](CCC(O...</td>\n",
       "      <td>InChI=1S/C24H38O4/c1-14(4-9-22(27)28)18-7-8-19...</td>\n",
       "      <td>Positive</td>\n",
       "      <td>2837</td>\n",
       "      <td>7</td>\n",
       "      <td>781.561</td>\n",
       "      <td>781.561</td>\n",
       "      <td>C24H38O4</td>\n",
       "      <td>19</td>\n",
       "      <td>36.84210526</td>\n",
       "    </tr>\n",
       "    <tr>\n",
       "      <th>11</th>\n",
       "      <td>CCMSLIB00005464789</td>\n",
       "      <td>yes</td>\n",
       "      <td>(R)-4-((3S,5S,7R,8R,9S,10S,13R,14S,17R)-3,7-di...</td>\n",
       "      <td>2M+H</td>\n",
       "      <td>813.551</td>\n",
       "      <td>406.272</td>\n",
       "      <td>C[C@@H]([C@H]1CC[C@]2([H])[C@]1(C)C(C[C@@]3([H...</td>\n",
       "      <td>InChI=1S/C24H38O5/c1-13(4-7-21(28)29)16-5-6-17...</td>\n",
       "      <td>Positive</td>\n",
       "      <td>1182</td>\n",
       "      <td>12</td>\n",
       "      <td>813.551</td>\n",
       "      <td>813.551</td>\n",
       "      <td>C24H38O5</td>\n",
       "      <td>22</td>\n",
       "      <td>54.54545455</td>\n",
       "    </tr>\n",
       "    <tr>\n",
       "      <th>12</th>\n",
       "      <td>CCMSLIB00005464754</td>\n",
       "      <td>yes</td>\n",
       "      <td>(R)-4-((5R,8R,9S,10S,13R,14S,17R)-10,13-dimeth...</td>\n",
       "      <td>2M+H</td>\n",
       "      <td>749.571</td>\n",
       "      <td>374.282</td>\n",
       "      <td>C[C@@H]([C@H]1CC[C@]2([H])[C@]1(C)CC[C@@]3([H]...</td>\n",
       "      <td>InChI=1S/C24H38O3/c1-15(4-9-22(26)27)19-7-8-20...</td>\n",
       "      <td>Positive</td>\n",
       "      <td>999</td>\n",
       "      <td>13</td>\n",
       "      <td>749.571</td>\n",
       "      <td>749.571</td>\n",
       "      <td>C24H38O3</td>\n",
       "      <td>30</td>\n",
       "      <td>43.33333333</td>\n",
       "    </tr>\n",
       "    <tr>\n",
       "      <th>13</th>\n",
       "      <td>CCMSLIB00005464803</td>\n",
       "      <td>yes</td>\n",
       "      <td>(R)-4-((5S,8S,9S,10R,13R,14S,17R)-10,13-dimeth...</td>\n",
       "      <td>2M+H</td>\n",
       "      <td>777.530</td>\n",
       "      <td>388.261</td>\n",
       "      <td>C[C@@H]([C@H]1CC[C@]2([H])[C@]1(C)CC[C@@]3([H]...</td>\n",
       "      <td>InChI=1S/C24H36O4/c1-14(4-7-22(27)28)17-5-6-18...</td>\n",
       "      <td>Positive</td>\n",
       "      <td>1176</td>\n",
       "      <td>8</td>\n",
       "      <td>777.530</td>\n",
       "      <td>777.531</td>\n",
       "      <td>C24H36O4</td>\n",
       "      <td>35</td>\n",
       "      <td>22.85714286</td>\n",
       "    </tr>\n",
       "    <tr>\n",
       "      <th>734</th>\n",
       "      <td>CCMSLIB00005435564</td>\n",
       "      <td>yes</td>\n",
       "      <td>taurocholic acid</td>\n",
       "      <td>M-3H2O+H</td>\n",
       "      <td>462.266</td>\n",
       "      <td>515.292</td>\n",
       "      <td>C[C@H](CCC(=O)NCCS(=O)(=O)O)[C@H]1CC[C@@H]2[C@...</td>\n",
       "      <td>1S/C26H45NO7S/c1-15(4-7-23(31)27-10-11-35(32,3...</td>\n",
       "      <td>Positive</td>\n",
       "      <td>1228</td>\n",
       "      <td>12</td>\n",
       "      <td>462.266</td>\n",
       "      <td>462.267</td>\n",
       "      <td>C26H45NO7S</td>\n",
       "      <td>21</td>\n",
       "      <td>57.14285714</td>\n",
       "    </tr>\n",
       "  </tbody>\n",
       "</table>\n",
       "</div>"
      ],
      "text/plain": [
       "0            SpectrumID is_BA  \\\n",
       "8    CCMSLIB00005464718   yes   \n",
       "9    CCMSLIB00005464718   yes   \n",
       "11   CCMSLIB00005464789   yes   \n",
       "12   CCMSLIB00005464754   yes   \n",
       "13   CCMSLIB00005464803   yes   \n",
       "734  CCMSLIB00005435564   yes   \n",
       "\n",
       "0                                        Compound_Name    Adduct Precursor_MZ  \\\n",
       "8    (4R)-4-((3S,5R,9S,10S,13R,14S,17R)-3-hydroxy-1...      2M+H      781.561   \n",
       "9    (4R)-4-((3S,5R,9S,10S,13R,14S,17R)-3-hydroxy-1...      2M+H      781.561   \n",
       "11   (R)-4-((3S,5S,7R,8R,9S,10S,13R,14S,17R)-3,7-di...      2M+H      813.551   \n",
       "12   (R)-4-((5R,8R,9S,10S,13R,14S,17R)-10,13-dimeth...      2M+H      749.571   \n",
       "13   (R)-4-((5S,8S,9S,10R,13R,14S,17R)-10,13-dimeth...      2M+H      777.530   \n",
       "734                                   taurocholic acid  M-3H2O+H      462.266   \n",
       "\n",
       "0   ExactMass                                             Smiles  \\\n",
       "8     390.277  [H][C@@]([C@@H]([C@@]12C)CC[C@@H]1[C@@H](CCC(O...   \n",
       "9     390.277  [H][C@@]([C@@H]([C@@]12C)CC[C@@H]1[C@@H](CCC(O...   \n",
       "11    406.272  C[C@@H]([C@H]1CC[C@]2([H])[C@]1(C)C(C[C@@]3([H...   \n",
       "12    374.282  C[C@@H]([C@H]1CC[C@]2([H])[C@]1(C)CC[C@@]3([H]...   \n",
       "13    388.261  C[C@@H]([C@H]1CC[C@]2([H])[C@]1(C)CC[C@@]3([H]...   \n",
       "734   515.292  C[C@H](CCC(=O)NCCS(=O)(=O)O)[C@H]1CC[C@@H]2[C@...   \n",
       "\n",
       "0                                                INCHI   IonMode #Scan#  \\\n",
       "8    InChI=1S/C24H38O4/c1-14(4-9-22(27)28)18-7-8-19...  Positive   2832   \n",
       "9    InChI=1S/C24H38O4/c1-14(4-9-22(27)28)18-7-8-19...  Positive   2837   \n",
       "11   InChI=1S/C24H38O5/c1-13(4-7-21(28)29)16-5-6-17...  Positive   1182   \n",
       "12   InChI=1S/C24H38O3/c1-15(4-9-22(26)27)19-7-8-20...  Positive    999   \n",
       "13   InChI=1S/C24H36O4/c1-14(4-7-22(27)28)17-5-6-18...  Positive   1176   \n",
       "734  1S/C26H45NO7S/c1-15(4-7-23(31)27-10-11-35(32,3...  Positive   1228   \n",
       "\n",
       "0   SharedPeaks    LibMZ   SpecMZ molecular_formula TotalIonsMGF  \\\n",
       "8            12  781.561  781.561          C24H38O4           21   \n",
       "9             7  781.561  781.561          C24H38O4           19   \n",
       "11           12  813.551  813.551          C24H38O5           22   \n",
       "12           13  749.571  749.571          C24H38O3           30   \n",
       "13            8  777.530  777.531          C24H36O4           35   \n",
       "734          12  462.266  462.267        C26H45NO7S           21   \n",
       "\n",
       "0   TotalIonsPerSharedPeaks  \n",
       "8               57.14285714  \n",
       "9               36.84210526  \n",
       "11              54.54545455  \n",
       "12              43.33333333  \n",
       "13              22.85714286  \n",
       "734             57.14285714  "
      ]
     },
     "metadata": {},
     "output_type": "display_data"
    }
   ],
   "source": [
    "# records with common adduct\n",
    "display(quant_df[~quant_df[\"Adduct\"].isin(common.ION_LST)])\n",
    "quant_df = quant_df[quant_df[\"Adduct\"].isin(common.ION_LST)]"
   ]
  },
  {
   "cell_type": "code",
   "execution_count": 6,
   "metadata": {},
   "outputs": [
    {
     "data": {
      "text/html": [
       "<div>\n",
       "<style scoped>\n",
       "    .dataframe tbody tr th:only-of-type {\n",
       "        vertical-align: middle;\n",
       "    }\n",
       "\n",
       "    .dataframe tbody tr th {\n",
       "        vertical-align: top;\n",
       "    }\n",
       "\n",
       "    .dataframe thead th {\n",
       "        text-align: right;\n",
       "    }\n",
       "</style>\n",
       "<table border=\"1\" class=\"dataframe\">\n",
       "  <thead>\n",
       "    <tr style=\"text-align: right;\">\n",
       "      <th></th>\n",
       "      <th>SpectrumID</th>\n",
       "      <th>is_BA</th>\n",
       "      <th>Compound_Name</th>\n",
       "      <th>Adduct</th>\n",
       "      <th>Precursor_MZ</th>\n",
       "      <th>ExactMass</th>\n",
       "      <th>Smiles</th>\n",
       "      <th>INCHI</th>\n",
       "      <th>IonMode</th>\n",
       "      <th>#Scan#</th>\n",
       "      <th>SharedPeaks</th>\n",
       "      <th>LibMZ</th>\n",
       "      <th>SpecMZ</th>\n",
       "      <th>molecular_formula</th>\n",
       "      <th>TotalIonsMGF</th>\n",
       "      <th>TotalIonsPerSharedPeaks</th>\n",
       "      <th>mz_difference</th>\n",
       "    </tr>\n",
       "  </thead>\n",
       "  <tbody>\n",
       "    <tr>\n",
       "      <th>1054</th>\n",
       "      <td>CCMSLIB00005467948</td>\n",
       "      <td>yes</td>\n",
       "      <td>Tyrosine conjugated deoxycholic acid putative</td>\n",
       "      <td>[M-H2O+H]+</td>\n",
       "      <td>556.364</td>\n",
       "      <td>0.000</td>\n",
       "      <td>[H]C12C(O)CC3CC(CCC3(C1CCC4(C2CCC4C(C)CCC(NC(C...</td>\n",
       "      <td>InChI=1S/C33H49NO6/c1-19(4-11-29(38)34-27(31(3...</td>\n",
       "      <td>Positive</td>\n",
       "      <td>937</td>\n",
       "      <td>11</td>\n",
       "      <td>556.364</td>\n",
       "      <td>556.362</td>\n",
       "      <td>C33H49NO6</td>\n",
       "      <td>19</td>\n",
       "      <td>57.89473684</td>\n",
       "      <td>18.0113</td>\n",
       "    </tr>\n",
       "    <tr>\n",
       "      <th>1055</th>\n",
       "      <td>CCMSLIB00005467948</td>\n",
       "      <td>yes</td>\n",
       "      <td>Tyrosine conjugated deoxycholic acid putative</td>\n",
       "      <td>[M-H2O+H]+</td>\n",
       "      <td>556.364</td>\n",
       "      <td>0.000</td>\n",
       "      <td>[H]C12C(O)CC3CC(CCC3(C1CCC4(C2CCC4C(C)CCC(NC(C...</td>\n",
       "      <td>InChI=1S/C33H49NO6/c1-19(4-11-29(38)34-27(31(3...</td>\n",
       "      <td>Positive</td>\n",
       "      <td>931</td>\n",
       "      <td>12</td>\n",
       "      <td>556.364</td>\n",
       "      <td>556.362</td>\n",
       "      <td>C33H49NO6</td>\n",
       "      <td>27</td>\n",
       "      <td>44.44444444</td>\n",
       "      <td>18.0113</td>\n",
       "    </tr>\n",
       "    <tr>\n",
       "      <th>1056</th>\n",
       "      <td>CCMSLIB00005467948</td>\n",
       "      <td>yes</td>\n",
       "      <td>Tyrosine conjugated deoxycholic acid putative</td>\n",
       "      <td>[M-H2O+H]+</td>\n",
       "      <td>556.364</td>\n",
       "      <td>0.000</td>\n",
       "      <td>[H]C12C(O)CC3CC(CCC3(C1CCC4(C2CCC4C(C)CCC(NC(C...</td>\n",
       "      <td>InChI=1S/C33H49NO6/c1-19(4-11-29(38)34-27(31(3...</td>\n",
       "      <td>Positive</td>\n",
       "      <td>930</td>\n",
       "      <td>13</td>\n",
       "      <td>556.364</td>\n",
       "      <td>556.362</td>\n",
       "      <td>C33H49NO6</td>\n",
       "      <td>26</td>\n",
       "      <td>50</td>\n",
       "      <td>18.0113</td>\n",
       "    </tr>\n",
       "    <tr>\n",
       "      <th>1057</th>\n",
       "      <td>CCMSLIB00005467948</td>\n",
       "      <td>yes</td>\n",
       "      <td>Tyrosine conjugated deoxycholic acid putative</td>\n",
       "      <td>[M-H2O+H]+</td>\n",
       "      <td>556.364</td>\n",
       "      <td>0.000</td>\n",
       "      <td>[H]C12C(O)CC3CC(CCC3(C1CCC4(C2CCC4C(C)CCC(NC(C...</td>\n",
       "      <td>InChI=1S/C33H49NO6/c1-19(4-11-29(38)34-27(31(3...</td>\n",
       "      <td>Positive</td>\n",
       "      <td>2722</td>\n",
       "      <td>13</td>\n",
       "      <td>556.364</td>\n",
       "      <td>556.362</td>\n",
       "      <td>C33H49NO6</td>\n",
       "      <td>27</td>\n",
       "      <td>48.14814815</td>\n",
       "      <td>18.0113</td>\n",
       "    </tr>\n",
       "  </tbody>\n",
       "</table>\n",
       "</div>"
      ],
      "text/plain": [
       "0             SpectrumID is_BA                                  Compound_Name  \\\n",
       "1054  CCMSLIB00005467948   yes  Tyrosine conjugated deoxycholic acid putative   \n",
       "1055  CCMSLIB00005467948   yes  Tyrosine conjugated deoxycholic acid putative   \n",
       "1056  CCMSLIB00005467948   yes  Tyrosine conjugated deoxycholic acid putative   \n",
       "1057  CCMSLIB00005467948   yes  Tyrosine conjugated deoxycholic acid putative   \n",
       "\n",
       "0         Adduct Precursor_MZ ExactMass  \\\n",
       "1054  [M-H2O+H]+      556.364     0.000   \n",
       "1055  [M-H2O+H]+      556.364     0.000   \n",
       "1056  [M-H2O+H]+      556.364     0.000   \n",
       "1057  [M-H2O+H]+      556.364     0.000   \n",
       "\n",
       "0                                                Smiles  \\\n",
       "1054  [H]C12C(O)CC3CC(CCC3(C1CCC4(C2CCC4C(C)CCC(NC(C...   \n",
       "1055  [H]C12C(O)CC3CC(CCC3(C1CCC4(C2CCC4C(C)CCC(NC(C...   \n",
       "1056  [H]C12C(O)CC3CC(CCC3(C1CCC4(C2CCC4C(C)CCC(NC(C...   \n",
       "1057  [H]C12C(O)CC3CC(CCC3(C1CCC4(C2CCC4C(C)CCC(NC(C...   \n",
       "\n",
       "0                                                 INCHI   IonMode #Scan#  \\\n",
       "1054  InChI=1S/C33H49NO6/c1-19(4-11-29(38)34-27(31(3...  Positive    937   \n",
       "1055  InChI=1S/C33H49NO6/c1-19(4-11-29(38)34-27(31(3...  Positive    931   \n",
       "1056  InChI=1S/C33H49NO6/c1-19(4-11-29(38)34-27(31(3...  Positive    930   \n",
       "1057  InChI=1S/C33H49NO6/c1-19(4-11-29(38)34-27(31(3...  Positive   2722   \n",
       "\n",
       "0    SharedPeaks    LibMZ   SpecMZ molecular_formula TotalIonsMGF  \\\n",
       "1054          11  556.364  556.362         C33H49NO6           19   \n",
       "1055          12  556.364  556.362         C33H49NO6           27   \n",
       "1056          13  556.364  556.362         C33H49NO6           26   \n",
       "1057          13  556.364  556.362         C33H49NO6           27   \n",
       "\n",
       "0    TotalIonsPerSharedPeaks  mz_difference  \n",
       "1054             57.89473684        18.0113  \n",
       "1055             44.44444444        18.0113  \n",
       "1056                      50        18.0113  \n",
       "1057             48.14814815        18.0113  "
      ]
     },
     "metadata": {},
     "output_type": "display_data"
    }
   ],
   "source": [
    "# eliminate some wrong records\n",
    "# already double checked with mgf file\n",
    "quant_df['mz_difference'] = quant_df.apply(lambda x: (abs(float(x.Precursor_MZ) - \n",
    "                                                          common.ion_to_mass[x.Adduct] - \n",
    "                                                          common.formula_mass(x.molecular_formula)\n",
    "                                                          )), axis=1)\n",
    "display(quant_df[quant_df[\"mz_difference\"] > 0.02])\n",
    "quant_df = quant_df[quant_df[\"mz_difference\"] < 0.02]\n",
    "\n",
    "# Sort by scan number\n",
    "quant_df = quant_df.sort_values(by=['#Scan#'])\n",
    "quant_df.to_csv(export_csv,index=False)"
   ]
  },
  {
   "cell_type": "code",
   "execution_count": 7,
   "metadata": {},
   "outputs": [
    {
     "data": {
      "text/plain": [
       "(945, 17)"
      ]
     },
     "execution_count": 7,
     "metadata": {},
     "output_type": "execute_result"
    }
   ],
   "source": [
    "quant_df.shape"
   ]
  },
  {
   "cell_type": "code",
   "execution_count": 8,
   "metadata": {},
   "outputs": [
    {
     "data": {
      "text/plain": [
       "array(['Positive', 'positive'], dtype=object)"
      ]
     },
     "execution_count": 8,
     "metadata": {},
     "output_type": "execute_result"
    }
   ],
   "source": [
    "np.unique(quant_df.IonMode.values)"
   ]
  },
  {
   "attachments": {},
   "cell_type": "markdown",
   "metadata": {},
   "source": [
    "# Construct MGF output"
   ]
  },
  {
   "cell_type": "code",
   "execution_count": 9,
   "metadata": {},
   "outputs": [
    {
     "name": "stderr",
     "output_type": "stream",
     "text": [
      "5720it [00:00, 30371.08it/s]\n"
     ]
    }
   ],
   "source": [
    "# Read in mgf \n",
    "parsed_mgf = common.parse_spectra_mgf(mgf_file)\n",
    "feat_id_to_entry = {i[0]['SCANS'] : i for i in parsed_mgf}"
   ]
  },
  {
   "cell_type": "code",
   "execution_count": 10,
   "metadata": {},
   "outputs": [],
   "source": [
    "# check all features are present in mgf\n",
    "for id in quant_df['#Scan#'].values:\n",
    "    if id not in feat_id_to_entry:\n",
    "        print(id)"
   ]
  },
  {
   "cell_type": "code",
   "execution_count": 11,
   "metadata": {},
   "outputs": [],
   "source": [
    "# check the quant_df 'Precursor_MZ' correspond to mgf 'PEPMASS'\n",
    "for scan, mz in zip(quant_df['#Scan#'].values, quant_df['Precursor_MZ'].values):\n",
    "    measured_mz = feat_id_to_entry[scan][0]['PEPMASS']\n",
    "    if (float(mz)-float(measured_mz)>0.02):\n",
    "        print(f'{float(mz)} {float(measured_mz)}')\n",
    "        print(scan)"
   ]
  },
  {
   "cell_type": "code",
   "execution_count": 12,
   "metadata": {},
   "outputs": [],
   "source": [
    "keep_entries = []\n",
    "ctr = 0 \n",
    "for _, quant_df_row  in quant_df.iterrows():\n",
    "    feat_id = str(quant_df_row['#Scan#'])\n",
    "    if feat_id in feat_id_to_entry:\n",
    "        sub_entry = feat_id_to_entry[feat_id]\n",
    "        sub_entry[0]['FEATURE_ID'] = feat_id\n",
    "        assert feat_id == sub_entry[0]['SCANS']\n",
    "        keep_entries.append(sub_entry)\n",
    "    else:\n",
    "        print(f\"Missing feature ID: {feat_id}\")\n",
    "        ctr += 1"
   ]
  },
  {
   "cell_type": "code",
   "execution_count": 13,
   "metadata": {},
   "outputs": [
    {
     "name": "stderr",
     "output_type": "stream",
     "text": [
      "100%|██████████| 945/945 [00:00<00:00, 16981.72it/s]\n"
     ]
    }
   ],
   "source": [
    "# Export mgf\n",
    "out_str = common.build_mgf_str(keep_entries)\n",
    "with open(export_mgf, 'w') as f:\n",
    "    f.write(out_str)"
   ]
  },
  {
   "attachments": {},
   "cell_type": "markdown",
   "metadata": {},
   "source": [
    "# Construct output label"
   ]
  },
  {
   "cell_type": "code",
   "execution_count": 14,
   "metadata": {},
   "outputs": [],
   "source": [
    "#dataset\tspec\tname\tformula\tionization\tsmiles\tinchikey\tinstrument\n",
    "new_df = []\n",
    "for _, row in quant_df.iterrows():\n",
    "    new_entry = {\"dataset\": \"bile_acid_refined\",\n",
    "                 \"spec\": row['#Scan#'],\n",
    "                 \"name\": row['SpectrumID'],\n",
    "                    \"formula\": row['molecular_formula'],\n",
    "                    \"ionization\": row['Adduct'],\n",
    "                    \"smiles\": row['Smiles'],\n",
    "                    \"inchikey\": row['INCHI'],\n",
    "                    \"instrument\": \"ion trap\"\n",
    "                 }\n",
    "    new_df.append(new_entry)\n",
    "out_df = pd.DataFrame(new_df)"
   ]
  },
  {
   "cell_type": "code",
   "execution_count": 15,
   "metadata": {},
   "outputs": [],
   "source": [
    "out_df.to_csv(export_labels, sep=\"\\t\", index=False)"
   ]
  },
  {
   "cell_type": "code",
   "execution_count": null,
   "metadata": {},
   "outputs": [],
   "source": []
  }
 ],
 "metadata": {
  "kernelspec": {
   "display_name": "ms-gen",
   "language": "python",
   "name": "python3"
  },
  "language_info": {
   "codemirror_mode": {
    "name": "ipython",
    "version": 3
   },
   "file_extension": ".py",
   "mimetype": "text/x-python",
   "name": "python",
   "nbconvert_exporter": "python",
   "pygments_lexer": "ipython3",
   "version": "3.8.13"
  },
  "orig_nbformat": 4
 },
 "nbformat": 4,
 "nbformat_minor": 2
}
